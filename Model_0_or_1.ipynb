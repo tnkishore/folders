{
 "cells": [
  {
   "cell_type": "code",
   "execution_count": 102,
   "metadata": {},
   "outputs": [],
   "source": [
    "# Load libraries\n",
    "import pandas as pd\n",
    "from sklearn.tree import DecisionTreeClassifier # Import Decision Tree Classifier\n",
    "from sklearn.linear_model import LogisticRegression\n",
    "from sklearn.discriminant_analysis import LinearDiscriminantAnalysis\n",
    "from sklearn.neighbors import KNeighborsClassifier\n",
    "from sklearn.naive_bayes import GaussianNB\n",
    "from sklearn.tree import DecisionTreeClassifier\n",
    "from sklearn.svm import SVC\n",
    "from sklearn.model_selection import train_test_split # Import train_test_split function\n",
    "from sklearn import metrics #Import scikit-learn metrics module for accuracy calculation\n",
    "from sklearn import preprocessing"
   ]
  },
  {
   "cell_type": "code",
   "execution_count": 231,
   "metadata": {},
   "outputs": [
    {
     "name": "stderr",
     "output_type": "stream",
     "text": [
      "E:\\Users1\\2003935\\AppData\\Local\\Continuum\\anaconda3\\lib\\site-packages\\IPython\\core\\interactiveshell.py:3058: DtypeWarning: Columns (2) have mixed types. Specify dtype option on import or set low_memory=False.\n",
      "  interactivity=interactivity, compiler=compiler, result=result)\n"
     ]
    }
   ],
   "source": [
    "df = pd.read_csv(\"features_52_v2_201912250946.csv\", header=0)"
   ]
  },
  {
   "cell_type": "code",
   "execution_count": 232,
   "metadata": {},
   "outputs": [],
   "source": [
    "df1=df.copy()"
   ]
  },
  {
   "cell_type": "code",
   "execution_count": 233,
   "metadata": {},
   "outputs": [
    {
     "data": {
      "text/html": [
       "<div>\n",
       "<style scoped>\n",
       "    .dataframe tbody tr th:only-of-type {\n",
       "        vertical-align: middle;\n",
       "    }\n",
       "\n",
       "    .dataframe tbody tr th {\n",
       "        vertical-align: top;\n",
       "    }\n",
       "\n",
       "    .dataframe thead th {\n",
       "        text-align: right;\n",
       "    }\n",
       "</style>\n",
       "<table border=\"1\" class=\"dataframe\">\n",
       "  <thead>\n",
       "    <tr style=\"text-align: right;\">\n",
       "      <th></th>\n",
       "      <th>cust_group</th>\n",
       "      <th>max_con_cd</th>\n",
       "      <th>max_city_cd</th>\n",
       "      <th>city</th>\n",
       "      <th>region</th>\n",
       "      <th>state</th>\n",
       "      <th>zone</th>\n",
       "      <th>max_sub_type</th>\n",
       "      <th>max_frequency</th>\n",
       "      <th>avg_odo_rd</th>\n",
       "      <th>...</th>\n",
       "      <th>rr_ro_avg_9</th>\n",
       "      <th>rr_ro_avg_12</th>\n",
       "      <th>ot_ro_avg_3</th>\n",
       "      <th>ot_ro_avg_6</th>\n",
       "      <th>ot_ro_avg_9</th>\n",
       "      <th>ot_ro_avg_12</th>\n",
       "      <th>age_1</th>\n",
       "      <th>age_2</th>\n",
       "      <th>age_3</th>\n",
       "      <th>age_others</th>\n",
       "    </tr>\n",
       "  </thead>\n",
       "  <tbody>\n",
       "    <tr>\n",
       "      <td>0</td>\n",
       "      <td>193386</td>\n",
       "      <td>E</td>\n",
       "      <td>20</td>\n",
       "      <td>PUNE</td>\n",
       "      <td>West 3</td>\n",
       "      <td>Maharashtra</td>\n",
       "      <td>West</td>\n",
       "      <td>Flagship</td>\n",
       "      <td>Annual</td>\n",
       "      <td>6503.0</td>\n",
       "      <td>...</td>\n",
       "      <td>NaN</td>\n",
       "      <td>NaN</td>\n",
       "      <td>0.0</td>\n",
       "      <td>0.0</td>\n",
       "      <td>0.0</td>\n",
       "      <td>0.0</td>\n",
       "      <td>1</td>\n",
       "      <td>0</td>\n",
       "      <td>0</td>\n",
       "      <td>0</td>\n",
       "    </tr>\n",
       "    <tr>\n",
       "      <td>1</td>\n",
       "      <td>195241</td>\n",
       "      <td>E</td>\n",
       "      <td>NaN</td>\n",
       "      <td>NaN</td>\n",
       "      <td>NaN</td>\n",
       "      <td>NaN</td>\n",
       "      <td>NaN</td>\n",
       "      <td>Flagship</td>\n",
       "      <td>Annual</td>\n",
       "      <td>9354.0</td>\n",
       "      <td>...</td>\n",
       "      <td>NaN</td>\n",
       "      <td>NaN</td>\n",
       "      <td>NaN</td>\n",
       "      <td>NaN</td>\n",
       "      <td>NaN</td>\n",
       "      <td>NaN</td>\n",
       "      <td>1</td>\n",
       "      <td>0</td>\n",
       "      <td>0</td>\n",
       "      <td>0</td>\n",
       "    </tr>\n",
       "    <tr>\n",
       "      <td>2</td>\n",
       "      <td>2015</td>\n",
       "      <td>I</td>\n",
       "      <td>755</td>\n",
       "      <td>BHOPAL</td>\n",
       "      <td>West 4</td>\n",
       "      <td>Madhya Pradesh</td>\n",
       "      <td>West</td>\n",
       "      <td>Special Day</td>\n",
       "      <td>Annual</td>\n",
       "      <td>NaN</td>\n",
       "      <td>...</td>\n",
       "      <td>NaN</td>\n",
       "      <td>NaN</td>\n",
       "      <td>0.0</td>\n",
       "      <td>0.0</td>\n",
       "      <td>0.0</td>\n",
       "      <td>0.0</td>\n",
       "      <td>0</td>\n",
       "      <td>0</td>\n",
       "      <td>0</td>\n",
       "      <td>1</td>\n",
       "    </tr>\n",
       "    <tr>\n",
       "      <td>3</td>\n",
       "      <td>203129</td>\n",
       "      <td>E</td>\n",
       "      <td>2774</td>\n",
       "      <td>MODASA</td>\n",
       "      <td>West 2</td>\n",
       "      <td>Gujarat</td>\n",
       "      <td>West</td>\n",
       "      <td>Flagship</td>\n",
       "      <td>Annual</td>\n",
       "      <td>8239.0</td>\n",
       "      <td>...</td>\n",
       "      <td>NaN</td>\n",
       "      <td>NaN</td>\n",
       "      <td>NaN</td>\n",
       "      <td>NaN</td>\n",
       "      <td>NaN</td>\n",
       "      <td>NaN</td>\n",
       "      <td>1</td>\n",
       "      <td>0</td>\n",
       "      <td>0</td>\n",
       "      <td>0</td>\n",
       "    </tr>\n",
       "    <tr>\n",
       "      <td>4</td>\n",
       "      <td>204170</td>\n",
       "      <td>I</td>\n",
       "      <td>80</td>\n",
       "      <td>BANGALORE</td>\n",
       "      <td>South 4</td>\n",
       "      <td>Karnataka</td>\n",
       "      <td>South</td>\n",
       "      <td>Flagship</td>\n",
       "      <td>Annual</td>\n",
       "      <td>NaN</td>\n",
       "      <td>...</td>\n",
       "      <td>NaN</td>\n",
       "      <td>NaN</td>\n",
       "      <td>0.0</td>\n",
       "      <td>0.0</td>\n",
       "      <td>0.0</td>\n",
       "      <td>0.0</td>\n",
       "      <td>1</td>\n",
       "      <td>0</td>\n",
       "      <td>0</td>\n",
       "      <td>0</td>\n",
       "    </tr>\n",
       "  </tbody>\n",
       "</table>\n",
       "<p>5 rows × 77 columns</p>\n",
       "</div>"
      ],
      "text/plain": [
       "   cust_group max_con_cd max_city_cd       city   region           state  \\\n",
       "0      193386          E          20       PUNE   West 3     Maharashtra   \n",
       "1      195241          E         NaN        NaN      NaN             NaN   \n",
       "2        2015          I         755     BHOPAL   West 4  Madhya Pradesh   \n",
       "3      203129          E        2774     MODASA   West 2         Gujarat   \n",
       "4      204170          I          80  BANGALORE  South 4       Karnataka   \n",
       "\n",
       "     zone max_sub_type max_frequency  avg_odo_rd  ...  rr_ro_avg_9  \\\n",
       "0   West      Flagship        Annual      6503.0  ...          NaN   \n",
       "1     NaN     Flagship        Annual      9354.0  ...          NaN   \n",
       "2   West   Special Day        Annual         NaN  ...          NaN   \n",
       "3   West      Flagship        Annual      8239.0  ...          NaN   \n",
       "4  South      Flagship        Annual         NaN  ...          NaN   \n",
       "\n",
       "   rr_ro_avg_12 ot_ro_avg_3  ot_ro_avg_6 ot_ro_avg_9 ot_ro_avg_12 age_1  \\\n",
       "0           NaN         0.0          0.0         0.0          0.0     1   \n",
       "1           NaN         NaN          NaN         NaN          NaN     1   \n",
       "2           NaN         0.0          0.0         0.0          0.0     0   \n",
       "3           NaN         NaN          NaN         NaN          NaN     1   \n",
       "4           NaN         0.0          0.0         0.0          0.0     1   \n",
       "\n",
       "   age_2  age_3  age_others  \n",
       "0      0      0           0  \n",
       "1      0      0           0  \n",
       "2      0      0           1  \n",
       "3      0      0           0  \n",
       "4      0      0           0  \n",
       "\n",
       "[5 rows x 77 columns]"
      ]
     },
     "execution_count": 233,
     "metadata": {},
     "output_type": "execute_result"
    }
   ],
   "source": [
    "df.head()\n",
    "#df.dtypes"
   ]
  },
  {
   "cell_type": "code",
   "execution_count": 106,
   "metadata": {},
   "outputs": [
    {
     "data": {
      "text/plain": [
       "Gold(0-3Y)          534927\n",
       "Platinum(4Y-5Y)      50677\n",
       "Diamond(6Y-7Y)       10982\n",
       "Sapphire(8Y-10Y)      4645\n",
       "Loyal(GT 10Y)         1944\n",
       "Name: vehicle_age_bin, dtype: int64"
      ]
     },
     "execution_count": 106,
     "metadata": {},
     "output_type": "execute_result"
    }
   ],
   "source": [
    "#df['vehicle_age_bin'].nunique(), df['vehicle_age_bin'].unique()\n",
    "df['vehicle_age_bin'].value_counts()\n",
    "#df['vehicle_age_bin_mod'].value_counts()"
   ]
  },
  {
   "cell_type": "code",
   "execution_count": 234,
   "metadata": {},
   "outputs": [],
   "source": [
    "#Combining Bins for Vehicle Age Bin\n",
    "df.loc[(df['vehicle_age_bin'] == 'Loyal(GT 10Y)') |\n",
    "       (df['vehicle_age_bin'] == 'Sapphire(8Y-10Y)')|\n",
    "       (df['vehicle_age_bin'] == 'Platinum(4Y-5Y)')|\n",
    "       (df['vehicle_age_bin'] == 'Diamond(6Y-7Y)'), 'vehicle_age_bin'] = 'Others' "
   ]
  },
  {
   "cell_type": "code",
   "execution_count": 108,
   "metadata": {},
   "outputs": [
    {
     "data": {
      "text/plain": [
       "(603175, 73)"
      ]
     },
     "execution_count": 108,
     "metadata": {},
     "output_type": "execute_result"
    }
   ],
   "source": [
    "#Dropping Missing Values\n",
    "df.shape\n",
    "#df=df.dropna()\n",
    "df.shape"
   ]
  },
  {
   "cell_type": "code",
   "execution_count": 235,
   "metadata": {},
   "outputs": [],
   "source": [
    "del df['city']\n",
    "del df['max_city_cd']"
   ]
  },
  {
   "cell_type": "code",
   "execution_count": 236,
   "metadata": {},
   "outputs": [
    {
     "data": {
      "text/plain": [
       "(603175, 75)"
      ]
     },
     "execution_count": 236,
     "metadata": {},
     "output_type": "execute_result"
    }
   ],
   "source": [
    "df.shape"
   ]
  },
  {
   "cell_type": "code",
   "execution_count": 237,
   "metadata": {},
   "outputs": [],
   "source": [
    "df.loc[(df['labels'] == 'b') |\n",
    "       (df['labels'] == 'e')|\n",
    "       (df['labels'] == 's'), 'labels'] = 'r'"
   ]
  },
  {
   "cell_type": "code",
   "execution_count": 238,
   "metadata": {},
   "outputs": [
    {
     "data": {
      "text/plain": [
       "r    363788\n",
       "n    239387\n",
       "Name: labels, dtype: int64"
      ]
     },
     "execution_count": 238,
     "metadata": {},
     "output_type": "execute_result"
    }
   ],
   "source": [
    "#Target Variable Encoding\n",
    "encoder = preprocessing.LabelEncoder()\n",
    "df[\"labels\"].value_counts()\n",
    "#df[\"labels\"] = encoder.fit_transform(df[\"labels\"])#.fillna('Nan'))\n",
    "#df[\"labels\"].value_counts()"
   ]
  },
  {
   "cell_type": "code",
   "execution_count": 239,
   "metadata": {},
   "outputs": [
    {
     "data": {
      "text/html": [
       "<div>\n",
       "<style scoped>\n",
       "    .dataframe tbody tr th:only-of-type {\n",
       "        vertical-align: middle;\n",
       "    }\n",
       "\n",
       "    .dataframe tbody tr th {\n",
       "        vertical-align: top;\n",
       "    }\n",
       "\n",
       "    .dataframe thead th {\n",
       "        text-align: right;\n",
       "    }\n",
       "</style>\n",
       "<table border=\"1\" class=\"dataframe\">\n",
       "  <thead>\n",
       "    <tr style=\"text-align: right;\">\n",
       "      <th></th>\n",
       "      <th>max_con_cd</th>\n",
       "      <th>region</th>\n",
       "      <th>state</th>\n",
       "      <th>zone</th>\n",
       "      <th>max_sub_type</th>\n",
       "      <th>max_frequency</th>\n",
       "      <th>car_own_ty</th>\n",
       "      <th>vehicle_age_bin</th>\n",
       "      <th>max_fuel_cd</th>\n",
       "      <th>max_veh_type</th>\n",
       "      <th>labels</th>\n",
       "    </tr>\n",
       "  </thead>\n",
       "  <tbody>\n",
       "    <tr>\n",
       "      <td>0</td>\n",
       "      <td>E</td>\n",
       "      <td>West 3</td>\n",
       "      <td>Maharashtra</td>\n",
       "      <td>West</td>\n",
       "      <td>Flagship</td>\n",
       "      <td>Annual</td>\n",
       "      <td>Single</td>\n",
       "      <td>Gold(0-3Y)</td>\n",
       "      <td>Petrol</td>\n",
       "      <td>Hatchback</td>\n",
       "      <td>r</td>\n",
       "    </tr>\n",
       "    <tr>\n",
       "      <td>1</td>\n",
       "      <td>E</td>\n",
       "      <td>NaN</td>\n",
       "      <td>NaN</td>\n",
       "      <td>NaN</td>\n",
       "      <td>Flagship</td>\n",
       "      <td>Annual</td>\n",
       "      <td>Single</td>\n",
       "      <td>Gold(0-3Y)</td>\n",
       "      <td>Petrol</td>\n",
       "      <td>Hatchback</td>\n",
       "      <td>r</td>\n",
       "    </tr>\n",
       "    <tr>\n",
       "      <td>2</td>\n",
       "      <td>I</td>\n",
       "      <td>West 4</td>\n",
       "      <td>Madhya Pradesh</td>\n",
       "      <td>West</td>\n",
       "      <td>Special Day</td>\n",
       "      <td>Annual</td>\n",
       "      <td>Single</td>\n",
       "      <td>Others</td>\n",
       "      <td>Petrol</td>\n",
       "      <td>Hatchback</td>\n",
       "      <td>n</td>\n",
       "    </tr>\n",
       "    <tr>\n",
       "      <td>3</td>\n",
       "      <td>E</td>\n",
       "      <td>West 2</td>\n",
       "      <td>Gujarat</td>\n",
       "      <td>West</td>\n",
       "      <td>Flagship</td>\n",
       "      <td>Annual</td>\n",
       "      <td>Single</td>\n",
       "      <td>Gold(0-3Y)</td>\n",
       "      <td>Petrol</td>\n",
       "      <td>Hatchback</td>\n",
       "      <td>r</td>\n",
       "    </tr>\n",
       "    <tr>\n",
       "      <td>4</td>\n",
       "      <td>I</td>\n",
       "      <td>South 4</td>\n",
       "      <td>Karnataka</td>\n",
       "      <td>South</td>\n",
       "      <td>Flagship</td>\n",
       "      <td>Annual</td>\n",
       "      <td>Single</td>\n",
       "      <td>Gold(0-3Y)</td>\n",
       "      <td>Petrol</td>\n",
       "      <td>Hatchback</td>\n",
       "      <td>n</td>\n",
       "    </tr>\n",
       "  </tbody>\n",
       "</table>\n",
       "</div>"
      ],
      "text/plain": [
       "  max_con_cd   region           state    zone max_sub_type max_frequency  \\\n",
       "0          E   West 3     Maharashtra   West      Flagship        Annual   \n",
       "1          E      NaN             NaN     NaN     Flagship        Annual   \n",
       "2          I   West 4  Madhya Pradesh   West   Special Day        Annual   \n",
       "3          E   West 2         Gujarat   West      Flagship        Annual   \n",
       "4          I  South 4       Karnataka  South      Flagship        Annual   \n",
       "\n",
       "  car_own_ty vehicle_age_bin max_fuel_cd max_veh_type labels  \n",
       "0     Single      Gold(0-3Y)      Petrol    Hatchback      r  \n",
       "1     Single      Gold(0-3Y)      Petrol    Hatchback      r  \n",
       "2     Single          Others      Petrol    Hatchback      n  \n",
       "3     Single      Gold(0-3Y)      Petrol    Hatchback      r  \n",
       "4     Single      Gold(0-3Y)      Petrol    Hatchback      n  "
      ]
     },
     "execution_count": 239,
     "metadata": {},
     "output_type": "execute_result"
    }
   ],
   "source": [
    "ds_cat = df.select_dtypes(include = 'object').copy()\n",
    "ds_num = df.select_dtypes(exclude = 'object').copy()\n",
    "ds_cat.head()\n",
    "#ds_num.head()"
   ]
  },
  {
   "cell_type": "code",
   "execution_count": 241,
   "metadata": {},
   "outputs": [],
   "source": [
    "ds_cat=ds_cat.fillna('Nope')"
   ]
  },
  {
   "cell_type": "code",
   "execution_count": 242,
   "metadata": {},
   "outputs": [],
   "source": [
    "ds_num=ds_num.fillna(0)"
   ]
  },
  {
   "cell_type": "code",
   "execution_count": 243,
   "metadata": {},
   "outputs": [
    {
     "name": "stdout",
     "output_type": "stream",
     "text": [
      "Index(['cust_group', 'avg_odo_rd', 'vin_ct', 'dis_vin_ct', 'avg_veh_age',\n",
      "       'hat_ct', 'sed_ct', 'suv_ct', 'die_ct', 'pet_ct', 'fre_an_ct',\n",
      "       'fre_as_ct', 'fre_bi_ct', 'fre_on_ct', 'type_fes_ct', 'type_fla_ct',\n",
      "       'type_oth_ct', 'type_sea_ct', 'type_spe_ct', 'war_ind', 'avg_3',\n",
      "       'avg_6', 'avg_9', 'avg_12', 'fs_avg_3', 'fs_avg_6', 'fs_avg_9',\n",
      "       'fs_avg_12', 'ps_avg_3', 'ps_avg_6', 'ps_avg_9', 'ps_avg_12',\n",
      "       'rr_avg_3', 'rr_avg_6', 'rr_avg_9', 'rr_avg_12', 'ot_avg_3', 'ot_avg_6',\n",
      "       'ot_avg_9', 'ot_avg_12', 'ro_avg_3', 'ro_avg_6', 'ro_avg_9',\n",
      "       'ro_avg_12', 'fs_ro_avg_3', 'fs_ro_avg_6', 'fs_ro_avg_9',\n",
      "       'fs_ro_avg_12', 'ps_ro_avg_3', 'ps_ro_avg_6', 'ps_ro_avg_9',\n",
      "       'ps_ro_avg_12', 'rr_ro_avg_3', 'rr_ro_avg_6', 'rr_ro_avg_9',\n",
      "       'rr_ro_avg_12', 'ot_ro_avg_3', 'ot_ro_avg_6', 'ot_ro_avg_9',\n",
      "       'ot_ro_avg_12', 'age_1', 'age_2', 'age_3', 'age_others'],\n",
      "      dtype='object')\n"
     ]
    }
   ],
   "source": [
    "print(ds_num.columns)"
   ]
  },
  {
   "cell_type": "code",
   "execution_count": 246,
   "metadata": {},
   "outputs": [
    {
     "name": "stdout",
     "output_type": "stream",
     "text": [
      "max_con_cd\n",
      "region\n",
      "state\n",
      "zone\n",
      "labels\n"
     ]
    }
   ],
   "source": [
    "ds_cat1 = ds_cat.copy()\n",
    "ds_cat1 = ds_cat1.drop(['max_sub_type','max_frequency','max_fuel_cd','max_veh_type','vehicle_age_bin','car_own_ty'],axis=1)\n",
    "#Label Encoding for all categorical variable - existing one\n",
    "for i in ds_cat1.columns:\n",
    "    print(i)\n",
    "    ds_cat1[i] = ds_cat1[i].astype(str)\n",
    "    ds_cat1[i] = encoder.fit_transform(ds_cat1[i])\n",
    "\n",
    "ds_num1=ds_num.copy()\n",
    "\n",
    "#with minimal RO and for an existing customer\n",
    "ds_num1=ds_num1.drop(['cust_group','avg_odo_rd', 'dis_vin_ct','avg_3',\n",
    "       'avg_9', 'avg_12', 'fs_avg_3', 'fs_avg_9',\n",
    "       'fs_avg_12', 'ps_avg_3', 'ps_avg_9', 'ps_avg_12',\n",
    "       'rr_avg_3', 'rr_avg_9', 'rr_avg_12', 'ot_avg_3',\n",
    "       'ot_avg_9', 'ot_avg_12', 'ro_avg_3', 'ro_avg_9',\n",
    "       'ro_avg_12', 'fs_ro_avg_3', 'fs_ro_avg_9',\n",
    "       'fs_ro_avg_12', 'ps_ro_avg_3', 'ps_ro_avg_9',\n",
    "       'ps_ro_avg_12', 'rr_ro_avg_3', 'rr_ro_avg_9',\n",
    "       'rr_ro_avg_12', 'ot_ro_avg_3', 'ot_ro_avg_9',\n",
    "       'ot_ro_avg_12'], axis=1)"
   ]
  },
  {
   "cell_type": "code",
   "execution_count": 247,
   "metadata": {},
   "outputs": [
    {
     "name": "stdout",
     "output_type": "stream",
     "text": [
      "Accuracy: 0.60897581139854\n",
      "[[37236 34519]\n",
      " [36238 72960]]\n",
      "              precision    recall  f1-score   support\n",
      "\n",
      "           0       0.51      0.52      0.51     71755\n",
      "           1       0.68      0.67      0.67    109198\n",
      "\n",
      "    accuracy                           0.61    180953\n",
      "   macro avg       0.59      0.59      0.59    180953\n",
      "weighted avg       0.61      0.61      0.61    180953\n",
      "\n"
     ]
    }
   ],
   "source": [
    "df_new1 = pd.concat([ds_num1, ds_cat1], axis=1)\n",
    "\n",
    "X1=df_new1.loc[:,df_new1.columns!='labels']\n",
    "y1=df_new1['labels']\n",
    "\n",
    "# Split dataset into training set and test set\n",
    "X1_train, X1_test, y1_train, y1_test = train_test_split(X1, y1, test_size=0.3, random_state=0) # 70% training and 30% test\n",
    "# Create Decision Tree classifer object\n",
    "clf = DecisionTreeClassifier(random_state=0)\n",
    "# Train Decision Tree Classifer\n",
    "clf1 = clf.fit(X1_train,y1_train)\n",
    "\n",
    "#Predict the response for test dataset\n",
    "y1_pred = clf1.predict(X1_test)\n",
    "# Model Evaluation\n",
    "print(\"Accuracy:\",metrics.accuracy_score(y1_test, y1_pred))\n",
    "print(metrics.confusion_matrix(y1_test,y1_pred))\n",
    "print(metrics.classification_report(y1_test,y1_pred))"
   ]
  },
  {
   "cell_type": "code",
   "execution_count": 203,
   "metadata": {},
   "outputs": [],
   "source": [
    "ds_cat2=ds_cat.copy()\n",
    "ds_cat2 = ds_cat2.drop(['max_sub_type','max_frequency','max_fuel_cd','max_veh_type','vehicle_age_bin','car_own_ty'],axis=1)\n",
    "\n",
    "#Label Encoding for all categorical variable - new customers\n",
    "for i in ds_cat2.columns:\n",
    "    print(i)\n",
    "    ds_cat2[i] = ds_cat2[i].astype(str)\n",
    "    ds_cat2[i] = encoder.fit_transform(ds_cat2[i])\n",
    "\n",
    "ds_num2=ds_num.copy()\n",
    "\n",
    "#with minal RO and for a new customer\n",
    "ds_num2=ds_num2.drop(['cust_group','avg_odo_rd', 'vin_ct','avg_veh_age', 'dis_vin_ct', 'fre_an_ct',\n",
    "       'fre_as_ct', 'fre_bi_ct', 'fre_on_ct', 'type_fes_ct', 'type_fla_ct',\n",
    "       'type_oth_ct', 'type_sea_ct', 'type_spe_ct', 'war_ind', 'avg_3',\n",
    "       'avg_6', 'avg_9', 'avg_12', 'fs_avg_3', 'fs_avg_6', 'fs_avg_9',\n",
    "       'fs_avg_12', 'ps_avg_3', 'ps_avg_6', 'ps_avg_9', 'ps_avg_12',\n",
    "       'rr_avg_3', 'rr_avg_6', 'rr_avg_9', 'rr_avg_12', 'ot_avg_3', 'ot_avg_6',\n",
    "       'ot_avg_9', 'ot_avg_12', 'ro_avg_3', 'ro_avg_6', 'ro_avg_9',\n",
    "       'ro_avg_12', 'fs_ro_avg_3', 'fs_ro_avg_6', 'fs_ro_avg_9',\n",
    "       'fs_ro_avg_12', 'ps_ro_avg_3', 'ps_ro_avg_6', 'ps_ro_avg_9',\n",
    "       'ps_ro_avg_12', 'rr_ro_avg_3', 'rr_ro_avg_6', 'rr_ro_avg_9',\n",
    "       'rr_ro_avg_12', 'ot_ro_avg_3', 'ot_ro_avg_6', 'ot_ro_avg_9',\n",
    "       'ot_ro_avg_12'], axis=1)"
   ]
  },
  {
   "cell_type": "code",
   "execution_count": 211,
   "metadata": {},
   "outputs": [
    {
     "name": "stdout",
     "output_type": "stream",
     "text": [
      "Accuracy: 0.6041734594065863\n",
      "[[  4339  67257]\n",
      " [  4369 104988]]\n",
      "              precision    recall  f1-score   support\n",
      "\n",
      "           0       0.50      0.06      0.11     71596\n",
      "           1       0.61      0.96      0.75    109357\n",
      "\n",
      "    accuracy                           0.60    180953\n",
      "   macro avg       0.55      0.51      0.43    180953\n",
      "weighted avg       0.57      0.60      0.49    180953\n",
      "\n"
     ]
    }
   ],
   "source": [
    "df_new2 = pd.concat([ds_num2, ds_cat2], axis=1)\n",
    "\n",
    "#Create X Y objects\n",
    "X2=df_new2.loc[:,df_new2.columns!='labels']\n",
    "y2=df_new2['labels']\n",
    "\n",
    "# Split dataset into training set and test set - NEW CUSTOMER\n",
    "X2_train, X2_test, y2_train, y2_test = train_test_split(X2, y2, test_size=0.3, random_state=0) # 70% training and 30% test\n",
    "# Create Decision Tree classifer object\n",
    "clf = DecisionTreeClassifier(random_state=0)\n",
    "# Train Decision Tree Classifer\n",
    "clf2 = clf.fit(X2_train,y2_train)\n",
    "\n",
    "#Predict the response for test dataset - NEW CUSTOMER\n",
    "y2_pred = clf2.predict(X2_test)\n",
    "# Model Evaluation\n",
    "print(\"Accuracy:\",metrics.accuracy_score(y2_test, y2_pred))\n",
    "print(metrics.confusion_matrix(y2_test,y2_pred))\n",
    "print(metrics.classification_report(y2_test,y2_pred))"
   ]
  },
  {
   "cell_type": "code",
   "execution_count": 248,
   "metadata": {},
   "outputs": [
    {
     "data": {
      "text/plain": [
       "Index(['hat_ct', 'sed_ct', 'suv_ct', 'die_ct', 'pet_ct', 'max_con_cd',\n",
       "       'region', 'state', 'zone'],\n",
       "      dtype='object')"
      ]
     },
     "execution_count": 248,
     "metadata": {},
     "output_type": "execute_result"
    }
   ],
   "source": [
    "X2.columns"
   ]
  },
  {
   "cell_type": "code",
   "execution_count": 214,
   "metadata": {},
   "outputs": [
    {
     "name": "stdout",
     "output_type": "stream",
     "text": [
      "Accuracy: 0.9960818555094417\n",
      "[[ 71218    378]\n",
      " [   331 109026]]\n",
      "              precision    recall  f1-score   support\n",
      "\n",
      "           0       1.00      0.99      1.00     71596\n",
      "           1       1.00      1.00      1.00    109357\n",
      "\n",
      "    accuracy                           1.00    180953\n",
      "   macro avg       1.00      1.00      1.00    180953\n",
      "weighted avg       1.00      1.00      1.00    180953\n",
      "\n"
     ]
    }
   ],
   "source": [
    "#All variables\n",
    "df_new3 = pd.concat([ds_num,ds_cat1],axis=1)\n",
    "\n",
    "X3=df_new3.loc[:,df_new3.columns!='labels']\n",
    "y3=df_new3['labels']\n",
    "\n",
    "# Split dataset into training set and test set\n",
    "X3_train, X3_test, y3_train, y3_test = train_test_split(X3, y3, test_size=0.3, random_state=0) # 70% training and 30% test\n",
    "# Create Decision Tree classifer object\n",
    "clf = DecisionTreeClassifier(random_state=0)\n",
    "# Train Decision Tree Classifer\n",
    "clf3 = clf.fit(X3_train,y3_train)\n",
    "\n",
    "#Predict the response for test dataset\n",
    "y3_pred = clf3.predict(X3_test)\n",
    "# Model Evaluation\n",
    "print(\"Accuracy:\",metrics.accuracy_score(y3_test, y3_pred))\n",
    "print(metrics.confusion_matrix(y3_test,y3_pred))\n",
    "print(metrics.classification_report(y3_test,y3_pred))"
   ]
  },
  {
   "cell_type": "code",
   "execution_count": 82,
   "metadata": {},
   "outputs": [
    {
     "name": "stderr",
     "output_type": "stream",
     "text": [
      "E:\\Users1\\2003935\\AppData\\Local\\Continuum\\anaconda3\\lib\\site-packages\\sklearn\\linear_model\\logistic.py:432: FutureWarning: Default solver will be changed to 'lbfgs' in 0.22. Specify a solver to silence this warning.\n",
      "  FutureWarning)\n"
     ]
    },
    {
     "name": "stdout",
     "output_type": "stream",
     "text": [
      "Accuracy: 0.983271899332976\n",
      "[[ 71531     65]\n",
      " [  2962 106395]]\n",
      "              precision    recall  f1-score   support\n",
      "\n",
      "           0       0.96      1.00      0.98     71596\n",
      "           1       1.00      0.97      0.99    109357\n",
      "\n",
      "    accuracy                           0.98    180953\n",
      "   macro avg       0.98      0.99      0.98    180953\n",
      "weighted avg       0.98      0.98      0.98    180953\n",
      "\n"
     ]
    }
   ],
   "source": [
    "#Logistic Regression\n",
    "logreg_clf = LogisticRegression()\n",
    "log = logreg_clf.fit(X_train,y_train)\n",
    "#Predict the response for test dataset\n",
    "y_pred = log.predict(X_test)\n",
    "# Model Evaluation\n",
    "print(\"Accuracy:\",metrics.accuracy_score(y_test, y_pred))\n",
    "print(metrics.confusion_matrix(y_test,y_pred))\n",
    "print(metrics.classification_report(y_test,y_pred))\n"
   ]
  }
 ],
 "metadata": {
  "kernelspec": {
   "display_name": "Python 3",
   "language": "python",
   "name": "python3"
  },
  "language_info": {
   "codemirror_mode": {
    "name": "ipython",
    "version": 3
   },
   "file_extension": ".py",
   "mimetype": "text/x-python",
   "name": "python",
   "nbconvert_exporter": "python",
   "pygments_lexer": "ipython3",
   "version": "3.7.4"
  }
 },
 "nbformat": 4,
 "nbformat_minor": 2
}
