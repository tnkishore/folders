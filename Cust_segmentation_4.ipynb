{
 "cells": [
  {
   "cell_type": "code",
   "execution_count": 1,
   "metadata": {},
   "outputs": [],
   "source": [
    "import pandas as pd\n",
    "import numpy as np\n",
    "import datetime"
   ]
  },
  {
   "cell_type": "code",
   "execution_count": 2,
   "metadata": {},
   "outputs": [],
   "source": [
    "data = pd.read_csv('modelling_v3_11_201912121643.csv')"
   ]
  },
  {
   "cell_type": "code",
   "execution_count": 3,
   "metadata": {},
   "outputs": [
    {
     "data": {
      "text/plain": [
       "vin            863958\n",
       "contact_id    1697721\n",
       "phone         1571298\n",
       "email         1030668\n",
       "dtype: int64"
      ]
     },
     "execution_count": 3,
     "metadata": {},
     "output_type": "execute_result"
    }
   ],
   "source": [
    "data.nunique()"
   ]
  },
  {
   "cell_type": "code",
   "execution_count": 137,
   "metadata": {},
   "outputs": [
    {
     "data": {
      "text/plain": [
       "(2806912, 1893612, 913300)"
      ]
     },
     "execution_count": 137,
     "metadata": {},
     "output_type": "execute_result"
    }
   ],
   "source": [
    "t1 = data.email.tolist()\n",
    "t2 = data.email.dropna().tolist()\n",
    "len(t1),len(t2), len(data[data.email.isnull()])"
   ]
  },
  {
   "cell_type": "code",
   "execution_count": 138,
   "metadata": {},
   "outputs": [
    {
     "data": {
      "text/plain": [
       "(0, 0)"
      ]
     },
     "execution_count": 138,
     "metadata": {},
     "output_type": "execute_result"
    }
   ],
   "source": [
    "len(data[data.email.isnull() & data.phone.isnull()]), len(data[data.vin.isnull()])"
   ]
  },
  {
   "cell_type": "code",
   "execution_count": 14,
   "metadata": {},
   "outputs": [
    {
     "ename": "KeyboardInterrupt",
     "evalue": "",
     "output_type": "error",
     "traceback": [
      "\u001b[1;31m---------------------------------------------------------------------------\u001b[0m",
      "\u001b[1;31mKeyboardInterrupt\u001b[0m                         Traceback (most recent call last)",
      "\u001b[1;32m<ipython-input-14-51534d983d9b>\u001b[0m in \u001b[0;36m<module>\u001b[1;34m\u001b[0m\n\u001b[0;32m     22\u001b[0m     \u001b[0mphones\u001b[0m \u001b[1;33m=\u001b[0m \u001b[1;33m[\u001b[0m\u001b[1;33m]\u001b[0m\u001b[1;33m\u001b[0m\u001b[1;33m\u001b[0m\u001b[0m\n\u001b[0;32m     23\u001b[0m     \u001b[0memails\u001b[0m \u001b[1;33m=\u001b[0m \u001b[1;33m[\u001b[0m\u001b[1;33m]\u001b[0m\u001b[1;33m\u001b[0m\u001b[1;33m\u001b[0m\u001b[0m\n\u001b[1;32m---> 24\u001b[1;33m     \u001b[0mphones\u001b[0m\u001b[1;33m.\u001b[0m\u001b[0mextend\u001b[0m\u001b[1;33m(\u001b[0m\u001b[0mdf_group\u001b[0m\u001b[1;33m[\u001b[0m\u001b[0mdf_group\u001b[0m\u001b[1;33m.\u001b[0m\u001b[0mvin\u001b[0m \u001b[1;33m==\u001b[0m \u001b[0mtvin\u001b[0m\u001b[1;33m]\u001b[0m\u001b[1;33m.\u001b[0m\u001b[0mphone\u001b[0m\u001b[1;33m.\u001b[0m\u001b[0mdropna\u001b[0m\u001b[1;33m(\u001b[0m\u001b[1;33m)\u001b[0m\u001b[1;33m.\u001b[0m\u001b[0mtolist\u001b[0m\u001b[1;33m(\u001b[0m\u001b[1;33m)\u001b[0m\u001b[1;33m)\u001b[0m\u001b[1;33m\u001b[0m\u001b[1;33m\u001b[0m\u001b[0m\n\u001b[0m\u001b[0;32m     25\u001b[0m     \u001b[0memails\u001b[0m\u001b[1;33m.\u001b[0m\u001b[0mextend\u001b[0m\u001b[1;33m(\u001b[0m\u001b[0mdf_group\u001b[0m\u001b[1;33m[\u001b[0m\u001b[0mdf_group\u001b[0m\u001b[1;33m.\u001b[0m\u001b[0mvin\u001b[0m \u001b[1;33m==\u001b[0m \u001b[0mtvin\u001b[0m\u001b[1;33m]\u001b[0m\u001b[1;33m.\u001b[0m\u001b[0memail\u001b[0m\u001b[1;33m.\u001b[0m\u001b[0mdropna\u001b[0m\u001b[1;33m(\u001b[0m\u001b[1;33m)\u001b[0m\u001b[1;33m.\u001b[0m\u001b[0mtolist\u001b[0m\u001b[1;33m(\u001b[0m\u001b[1;33m)\u001b[0m\u001b[1;33m)\u001b[0m\u001b[1;33m\u001b[0m\u001b[1;33m\u001b[0m\u001b[0m\n\u001b[0;32m     26\u001b[0m \u001b[1;33m\u001b[0m\u001b[0m\n",
      "\u001b[1;32mE:\\Users1\\2003935\\AppData\\Local\\Continuum\\anaconda3\\lib\\site-packages\\pandas\\core\\ops\\__init__.py\u001b[0m in \u001b[0;36mwrapper\u001b[1;34m(self, other, axis)\u001b[0m\n\u001b[0;32m   1227\u001b[0m \u001b[1;33m\u001b[0m\u001b[0m\n\u001b[0;32m   1228\u001b[0m             \u001b[1;32mwith\u001b[0m \u001b[0mnp\u001b[0m\u001b[1;33m.\u001b[0m\u001b[0merrstate\u001b[0m\u001b[1;33m(\u001b[0m\u001b[0mall\u001b[0m\u001b[1;33m=\u001b[0m\u001b[1;34m\"ignore\"\u001b[0m\u001b[1;33m)\u001b[0m\u001b[1;33m:\u001b[0m\u001b[1;33m\u001b[0m\u001b[1;33m\u001b[0m\u001b[0m\n\u001b[1;32m-> 1229\u001b[1;33m                 \u001b[0mres\u001b[0m \u001b[1;33m=\u001b[0m \u001b[0mna_op\u001b[0m\u001b[1;33m(\u001b[0m\u001b[0mvalues\u001b[0m\u001b[1;33m,\u001b[0m \u001b[0mother\u001b[0m\u001b[1;33m)\u001b[0m\u001b[1;33m\u001b[0m\u001b[1;33m\u001b[0m\u001b[0m\n\u001b[0m\u001b[0;32m   1230\u001b[0m             \u001b[1;32mif\u001b[0m \u001b[0mis_scalar\u001b[0m\u001b[1;33m(\u001b[0m\u001b[0mres\u001b[0m\u001b[1;33m)\u001b[0m\u001b[1;33m:\u001b[0m\u001b[1;33m\u001b[0m\u001b[1;33m\u001b[0m\u001b[0m\n\u001b[0;32m   1231\u001b[0m                 raise TypeError(\n",
      "\u001b[1;32mE:\\Users1\\2003935\\AppData\\Local\\Continuum\\anaconda3\\lib\\site-packages\\pandas\\core\\ops\\__init__.py\u001b[0m in \u001b[0;36mna_op\u001b[1;34m(x, y)\u001b[0m\n\u001b[0;32m   1089\u001b[0m \u001b[1;33m\u001b[0m\u001b[0m\n\u001b[0;32m   1090\u001b[0m         \u001b[1;32mif\u001b[0m \u001b[0mis_object_dtype\u001b[0m\u001b[1;33m(\u001b[0m\u001b[0mx\u001b[0m\u001b[1;33m.\u001b[0m\u001b[0mdtype\u001b[0m\u001b[1;33m)\u001b[0m\u001b[1;33m:\u001b[0m\u001b[1;33m\u001b[0m\u001b[1;33m\u001b[0m\u001b[0m\n\u001b[1;32m-> 1091\u001b[1;33m             \u001b[0mresult\u001b[0m \u001b[1;33m=\u001b[0m \u001b[0m_comp_method_OBJECT_ARRAY\u001b[0m\u001b[1;33m(\u001b[0m\u001b[0mop\u001b[0m\u001b[1;33m,\u001b[0m \u001b[0mx\u001b[0m\u001b[1;33m,\u001b[0m \u001b[0my\u001b[0m\u001b[1;33m)\u001b[0m\u001b[1;33m\u001b[0m\u001b[1;33m\u001b[0m\u001b[0m\n\u001b[0m\u001b[0;32m   1092\u001b[0m \u001b[1;33m\u001b[0m\u001b[0m\n\u001b[0;32m   1093\u001b[0m         \u001b[1;32melif\u001b[0m \u001b[0mis_datetimelike_v_numeric\u001b[0m\u001b[1;33m(\u001b[0m\u001b[0mx\u001b[0m\u001b[1;33m,\u001b[0m \u001b[0my\u001b[0m\u001b[1;33m)\u001b[0m\u001b[1;33m:\u001b[0m\u001b[1;33m\u001b[0m\u001b[1;33m\u001b[0m\u001b[0m\n",
      "\u001b[1;31mKeyboardInterrupt\u001b[0m: "
     ]
    }
   ],
   "source": [
    "df2 = data[['vin','phone','email']].copy()\n",
    "df2['cust_group'] = 0\n",
    "\n",
    "imax = df2.vin.nunique()\n",
    "\n",
    "df_group = pd.DataFrame(columns=['vin','phone','email','cust_group'])\n",
    "group_count = 1\n",
    "\n",
    "a = datetime.datetime.now()\n",
    "\n",
    "for i in range(imax):\n",
    "    \n",
    "    if (len(df2) == 0):\n",
    "        break\n",
    "    \n",
    "    tvin = df2.iloc[0].vin\n",
    "    \n",
    "    df2.loc[df2.vin == tvin, 'cust_group'] = group_count\n",
    "    df_group = df_group.append(df2[df2.vin == tvin],sort = False)\n",
    "    df2.drop(df2.loc[df2.vin == tvin].index, inplace = True)\n",
    "    \n",
    "    phones = []\n",
    "    emails = []\n",
    "    phones.extend(df_group[df_group.vin == tvin].phone.dropna().tolist())\n",
    "    emails.extend(df_group[df_group.vin == tvin].email.dropna().tolist())\n",
    "    \n",
    "    for i in range(imax):\n",
    "        app_group = pd.DataFrame(columns=['vin','phone','email','cust_group'])\n",
    "        \n",
    "        vin_es = df2[df2.email.isin(emails)].vin.tolist()\n",
    "        vin_ps = df2[df2.phone.isin(phones)].vin.tolist()\n",
    "        vins = list(set(vin_es + vin_ps))\n",
    "        \n",
    "        app_group = df2[df2.vin.isin(vins)]\n",
    "        app_group.cust_group = group_count\n",
    "        l = len(app_group)\n",
    "        \n",
    "        if (l == 0):\n",
    "            group_count += 1\n",
    "            break\n",
    "        \n",
    "        df_group = df_group.append(app_group,sort = False)\n",
    "        df2.drop(app_group.index, inplace = True)\n",
    "        emails = []\n",
    "        phones = []\n",
    "        emails.extend(app_group.email.dropna().tolist())\n",
    "        phones.extend(app_group.phone.dropna().tolist())\n",
    "        app_group.drop(app_group.index, inplace = True)\n",
    "        \n",
    "b = datetime.datetime.now()\n",
    "delta = b - a\n",
    "print(delta)"
   ]
  },
  {
   "cell_type": "code",
   "execution_count": null,
   "metadata": {},
   "outputs": [],
   "source": [
    "df_group_1 = df_group.copy()"
   ]
  },
  {
   "cell_type": "code",
   "execution_count": null,
   "metadata": {},
   "outputs": [],
   "source": [
    "df_group.to_csv('df_group1.csv')"
   ]
  },
  {
   "cell_type": "code",
   "execution_count": 11,
   "metadata": {},
   "outputs": [
    {
     "data": {
      "text/html": [
       "<div>\n",
       "<style scoped>\n",
       "    .dataframe tbody tr th:only-of-type {\n",
       "        vertical-align: middle;\n",
       "    }\n",
       "\n",
       "    .dataframe tbody tr th {\n",
       "        vertical-align: top;\n",
       "    }\n",
       "\n",
       "    .dataframe thead th {\n",
       "        text-align: right;\n",
       "    }\n",
       "</style>\n",
       "<table border=\"1\" class=\"dataframe\">\n",
       "  <thead>\n",
       "    <tr style=\"text-align: right;\">\n",
       "      <th></th>\n",
       "      <th>vin</th>\n",
       "      <th>phone</th>\n",
       "      <th>email</th>\n",
       "      <th>cust_group</th>\n",
       "    </tr>\n",
       "  </thead>\n",
       "  <tbody>\n",
       "    <tr>\n",
       "      <td>0</td>\n",
       "      <td>MALBB51RLCM418893</td>\n",
       "      <td>9.788730e+09</td>\n",
       "      <td>sathish.m1407@gmail.com</td>\n",
       "      <td>1</td>\n",
       "    </tr>\n",
       "    <tr>\n",
       "      <td>2</td>\n",
       "      <td>MALBB51RLCM418893</td>\n",
       "      <td>9.500062e+09</td>\n",
       "      <td>NaN</td>\n",
       "      <td>1</td>\n",
       "    </tr>\n",
       "    <tr>\n",
       "      <td>12</td>\n",
       "      <td>MALBB51RLCM418893</td>\n",
       "      <td>9.677214e+09</td>\n",
       "      <td>NaN</td>\n",
       "      <td>1</td>\n",
       "    </tr>\n",
       "    <tr>\n",
       "      <td>13</td>\n",
       "      <td>MALBB51RLCM418893</td>\n",
       "      <td>NaN</td>\n",
       "      <td>abdulrahman1971.m@gmail.com</td>\n",
       "      <td>1</td>\n",
       "    </tr>\n",
       "    <tr>\n",
       "      <td>14</td>\n",
       "      <td>MALBB51RLCM418893</td>\n",
       "      <td>9.788730e+09</td>\n",
       "      <td>NaN</td>\n",
       "      <td>1</td>\n",
       "    </tr>\n",
       "    <tr>\n",
       "      <td>...</td>\n",
       "      <td>...</td>\n",
       "      <td>...</td>\n",
       "      <td>...</td>\n",
       "      <td>...</td>\n",
       "    </tr>\n",
       "    <tr>\n",
       "      <td>9995</td>\n",
       "      <td>MALA841DLEM018672</td>\n",
       "      <td>9.783221e+09</td>\n",
       "      <td>NaN</td>\n",
       "      <td>3565</td>\n",
       "    </tr>\n",
       "    <tr>\n",
       "      <td>9997</td>\n",
       "      <td>MALA841DLEM018672</td>\n",
       "      <td>9.887163e+09</td>\n",
       "      <td>NaN</td>\n",
       "      <td>3565</td>\n",
       "    </tr>\n",
       "    <tr>\n",
       "      <td>9996</td>\n",
       "      <td>MALA351ALEM296324</td>\n",
       "      <td>9.830427e+09</td>\n",
       "      <td>NaN</td>\n",
       "      <td>3566</td>\n",
       "    </tr>\n",
       "    <tr>\n",
       "      <td>9998</td>\n",
       "      <td>MALA351ALEM296324</td>\n",
       "      <td>NaN</td>\n",
       "      <td>dravijitmondal2010@gmail.com</td>\n",
       "      <td>3566</td>\n",
       "    </tr>\n",
       "    <tr>\n",
       "      <td>9999</td>\n",
       "      <td>MALA351ALEM296324</td>\n",
       "      <td>8.972041e+09</td>\n",
       "      <td>NaN</td>\n",
       "      <td>3566</td>\n",
       "    </tr>\n",
       "  </tbody>\n",
       "</table>\n",
       "<p>10000 rows × 4 columns</p>\n",
       "</div>"
      ],
      "text/plain": [
       "                    vin         phone                         email cust_group\n",
       "0     MALBB51RLCM418893  9.788730e+09       sathish.m1407@gmail.com          1\n",
       "2     MALBB51RLCM418893  9.500062e+09                           NaN          1\n",
       "12    MALBB51RLCM418893  9.677214e+09                           NaN          1\n",
       "13    MALBB51RLCM418893           NaN   abdulrahman1971.m@gmail.com          1\n",
       "14    MALBB51RLCM418893  9.788730e+09                           NaN          1\n",
       "...                 ...           ...                           ...        ...\n",
       "9995  MALA841DLEM018672  9.783221e+09                           NaN       3565\n",
       "9997  MALA841DLEM018672  9.887163e+09                           NaN       3565\n",
       "9996  MALA351ALEM296324  9.830427e+09                           NaN       3566\n",
       "9998  MALA351ALEM296324           NaN  dravijitmondal2010@gmail.com       3566\n",
       "9999  MALA351ALEM296324  8.972041e+09                           NaN       3566\n",
       "\n",
       "[10000 rows x 4 columns]"
      ]
     },
     "execution_count": 11,
     "metadata": {},
     "output_type": "execute_result"
    }
   ],
   "source": [
    "df_group"
   ]
  },
  {
   "cell_type": "code",
   "execution_count": 13,
   "metadata": {},
   "outputs": [
    {
     "data": {
      "text/plain": [
       "2903    33\n",
       "2607    25\n",
       "1765    24\n",
       "591     21\n",
       "3268    19\n",
       "        ..\n",
       "1611     1\n",
       "748      1\n",
       "2508     1\n",
       "746      1\n",
       "2853     1\n",
       "Name: cust_group, Length: 3566, dtype: int64"
      ]
     },
     "execution_count": 13,
     "metadata": {},
     "output_type": "execute_result"
    }
   ],
   "source": [
    "df_group.cust_group.value_counts()"
   ]
  },
  {
   "cell_type": "code",
   "execution_count": 69,
   "metadata": {},
   "outputs": [
    {
     "data": {
      "text/plain": [
       "7943"
      ]
     },
     "execution_count": 69,
     "metadata": {},
     "output_type": "execute_result"
    }
   ],
   "source": [
    "len(df_group[df_group.vin == 'MALCN41CR6M005721'])"
   ]
  },
  {
   "cell_type": "code",
   "execution_count": 37,
   "metadata": {},
   "outputs": [
    {
     "data": {
      "text/plain": [
       "87718"
      ]
     },
     "execution_count": 37,
     "metadata": {},
     "output_type": "execute_result"
    }
   ],
   "source": [
    "df_group.vin.nunique()"
   ]
  },
  {
   "cell_type": "code",
   "execution_count": 74,
   "metadata": {},
   "outputs": [],
   "source": [
    "from tqdm import tqdm"
   ]
  },
  {
   "cell_type": "code",
   "execution_count": 83,
   "metadata": {},
   "outputs": [
    {
     "name": "stdout",
     "output_type": "stream",
     "text": [
      "0:00:02.254000\n"
     ]
    }
   ],
   "source": [
    "df2 = data[['vin','phone','email']].head(10000).copy()\n",
    "df2['cust_group'] = 0\n",
    "\n",
    "imax = df2.vin.nunique()\n",
    "\n",
    "df_group = pd.DataFrame(columns=['vin','phone','email','cust_group'])\n",
    "group_count = 1\n",
    "\n",
    "a = datetime.datetime.now()\n",
    "\n",
    "for i in range(imax):\n",
    "    \n",
    "    if (len(df2) == 0):\n",
    "        break\n",
    "    \n",
    "    tvin = df2.iloc[0].vin\n",
    "    \n",
    "    df2.loc[df2.vin == tvin, 'cust_group'] = group_count\n",
    "    df_group = df_group.append(df2[df2.vin == tvin],sort = False)\n",
    "    df2.drop(df2.loc[df2.vin == tvin].index, inplace = True)\n",
    "    \n",
    "    phones = []\n",
    "    emails = []\n",
    "    phones.extend(df_group[df_group.vin == tvin].phone.tolist())\n",
    "    emails.extend(df_group[df_group.vin == tvin].email.tolist())\n",
    "    \n",
    "    for i in range(imax):\n",
    "        app_group = pd.DataFrame(columns=['vin','phone','email','cust_group'])\n",
    "        \n",
    "        vin_es = df2[df2.email.isin(emails)].vin.tolist()\n",
    "        vin_ps = df2[df2.phone.isin(phones)].vin.tolist()\n",
    "        vins = list(set(vin_es + vin_ps))\n",
    "        \n",
    "        app_group = df2[df2.vin.isin(vins)]\n",
    "        app_group.cust_group = group_count\n",
    "        l = len(app_group)\n",
    "        \n",
    "        if (l == 0):\n",
    "            group_count += 1\n",
    "            break\n",
    "        \n",
    "        df_group = df_group.append(app_group,sort = False)\n",
    "        df2.drop(app_group.index, inplace = True)\n",
    "        emails = []\n",
    "        phones = []\n",
    "        emails.extend(app_group.email.tolist())\n",
    "        phones.extend(app_group.phone.tolist())\n",
    "        app_group.drop(app_group.index, inplace = True)\n",
    "        \n",
    "b = datetime.datetime.now()\n",
    "delta = b - a\n",
    "print(delta)"
   ]
  }
 ],
 "metadata": {
  "kernelspec": {
   "display_name": "Python 3",
   "language": "python",
   "name": "python3"
  },
  "language_info": {
   "codemirror_mode": {
    "name": "ipython",
    "version": 3
   },
   "file_extension": ".py",
   "mimetype": "text/x-python",
   "name": "python",
   "nbconvert_exporter": "python",
   "pygments_lexer": "ipython3",
   "version": "3.7.4"
  }
 },
 "nbformat": 4,
 "nbformat_minor": 2
}
