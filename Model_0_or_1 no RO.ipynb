{
 "cells": [
  {
   "cell_type": "code",
   "execution_count": 1,
   "metadata": {},
   "outputs": [],
   "source": [
    "# Load libraries\n",
    "import pandas as pd\n",
    "from sklearn.tree import DecisionTreeClassifier # Import Decision Tree Classifier\n",
    "from sklearn.linear_model import LogisticRegression\n",
    "from sklearn.discriminant_analysis import LinearDiscriminantAnalysis\n",
    "from sklearn.neighbors import KNeighborsClassifier\n",
    "from sklearn.naive_bayes import GaussianNB\n",
    "from sklearn.tree import DecisionTreeClassifier\n",
    "from sklearn.svm import SVC\n",
    "from sklearn.model_selection import train_test_split # Import train_test_split function\n",
    "from sklearn import metrics #Import scikit-learn metrics module for accuracy calculation\n",
    "from sklearn import preprocessing"
   ]
  },
  {
   "cell_type": "code",
   "execution_count": 16,
   "metadata": {},
   "outputs": [],
   "source": [
    "df = pd.read_csv(\"features_50_v2_201912241045.csv\", header=0)"
   ]
  },
  {
   "cell_type": "code",
   "execution_count": 17,
   "metadata": {},
   "outputs": [],
   "source": [
    "df1=df.copy()"
   ]
  },
  {
   "cell_type": "code",
   "execution_count": 18,
   "metadata": {},
   "outputs": [
    {
     "data": {
      "text/html": [
       "<div>\n",
       "<style scoped>\n",
       "    .dataframe tbody tr th:only-of-type {\n",
       "        vertical-align: middle;\n",
       "    }\n",
       "\n",
       "    .dataframe tbody tr th {\n",
       "        vertical-align: top;\n",
       "    }\n",
       "\n",
       "    .dataframe thead th {\n",
       "        text-align: right;\n",
       "    }\n",
       "</style>\n",
       "<table border=\"1\" class=\"dataframe\">\n",
       "  <thead>\n",
       "    <tr style=\"text-align: right;\">\n",
       "      <th></th>\n",
       "      <th>cust_group</th>\n",
       "      <th>max_con_cd</th>\n",
       "      <th>max_city_cd</th>\n",
       "      <th>city</th>\n",
       "      <th>region</th>\n",
       "      <th>state</th>\n",
       "      <th>zone</th>\n",
       "      <th>max_sub_type</th>\n",
       "      <th>max_frequency</th>\n",
       "      <th>avg_odo_rd</th>\n",
       "      <th>...</th>\n",
       "      <th>ps_ro_avg_9</th>\n",
       "      <th>ps_ro_avg_12</th>\n",
       "      <th>rr_ro_avg_3</th>\n",
       "      <th>rr_ro_avg_6</th>\n",
       "      <th>rr_ro_avg_9</th>\n",
       "      <th>rr_ro_avg_12</th>\n",
       "      <th>ot_ro_avg_3</th>\n",
       "      <th>ot_ro_avg_6</th>\n",
       "      <th>ot_ro_avg_9</th>\n",
       "      <th>ot_ro_avg_12</th>\n",
       "    </tr>\n",
       "  </thead>\n",
       "  <tbody>\n",
       "    <tr>\n",
       "      <td>0</td>\n",
       "      <td>193386</td>\n",
       "      <td>E</td>\n",
       "      <td>20</td>\n",
       "      <td>PUNE</td>\n",
       "      <td>West 3</td>\n",
       "      <td>Maharashtra</td>\n",
       "      <td>West</td>\n",
       "      <td>Flagship</td>\n",
       "      <td>Annual</td>\n",
       "      <td>6503.0</td>\n",
       "      <td>...</td>\n",
       "      <td>NaN</td>\n",
       "      <td>NaN</td>\n",
       "      <td>NaN</td>\n",
       "      <td>NaN</td>\n",
       "      <td>NaN</td>\n",
       "      <td>NaN</td>\n",
       "      <td>0.0</td>\n",
       "      <td>0.0</td>\n",
       "      <td>0.0</td>\n",
       "      <td>0.0</td>\n",
       "    </tr>\n",
       "    <tr>\n",
       "      <td>1</td>\n",
       "      <td>195241</td>\n",
       "      <td>E</td>\n",
       "      <td>NaN</td>\n",
       "      <td>NaN</td>\n",
       "      <td>NaN</td>\n",
       "      <td>NaN</td>\n",
       "      <td>NaN</td>\n",
       "      <td>Flagship</td>\n",
       "      <td>Annual</td>\n",
       "      <td>9354.0</td>\n",
       "      <td>...</td>\n",
       "      <td>NaN</td>\n",
       "      <td>NaN</td>\n",
       "      <td>NaN</td>\n",
       "      <td>NaN</td>\n",
       "      <td>NaN</td>\n",
       "      <td>NaN</td>\n",
       "      <td>NaN</td>\n",
       "      <td>NaN</td>\n",
       "      <td>NaN</td>\n",
       "      <td>NaN</td>\n",
       "    </tr>\n",
       "    <tr>\n",
       "      <td>2</td>\n",
       "      <td>2015</td>\n",
       "      <td>I</td>\n",
       "      <td>755</td>\n",
       "      <td>BHOPAL</td>\n",
       "      <td>West 4</td>\n",
       "      <td>Madhya Pradesh</td>\n",
       "      <td>West</td>\n",
       "      <td>Special Day</td>\n",
       "      <td>Annual</td>\n",
       "      <td>NaN</td>\n",
       "      <td>...</td>\n",
       "      <td>NaN</td>\n",
       "      <td>NaN</td>\n",
       "      <td>NaN</td>\n",
       "      <td>NaN</td>\n",
       "      <td>NaN</td>\n",
       "      <td>NaN</td>\n",
       "      <td>0.0</td>\n",
       "      <td>0.0</td>\n",
       "      <td>0.0</td>\n",
       "      <td>0.0</td>\n",
       "    </tr>\n",
       "    <tr>\n",
       "      <td>3</td>\n",
       "      <td>203129</td>\n",
       "      <td>E</td>\n",
       "      <td>2774</td>\n",
       "      <td>MODASA</td>\n",
       "      <td>West 2</td>\n",
       "      <td>Gujarat</td>\n",
       "      <td>West</td>\n",
       "      <td>Flagship</td>\n",
       "      <td>Annual</td>\n",
       "      <td>8239.0</td>\n",
       "      <td>...</td>\n",
       "      <td>NaN</td>\n",
       "      <td>NaN</td>\n",
       "      <td>NaN</td>\n",
       "      <td>NaN</td>\n",
       "      <td>NaN</td>\n",
       "      <td>NaN</td>\n",
       "      <td>NaN</td>\n",
       "      <td>NaN</td>\n",
       "      <td>NaN</td>\n",
       "      <td>NaN</td>\n",
       "    </tr>\n",
       "    <tr>\n",
       "      <td>4</td>\n",
       "      <td>204170</td>\n",
       "      <td>I</td>\n",
       "      <td>80</td>\n",
       "      <td>BANGALORE</td>\n",
       "      <td>South 4</td>\n",
       "      <td>Karnataka</td>\n",
       "      <td>South</td>\n",
       "      <td>Flagship</td>\n",
       "      <td>Annual</td>\n",
       "      <td>NaN</td>\n",
       "      <td>...</td>\n",
       "      <td>NaN</td>\n",
       "      <td>NaN</td>\n",
       "      <td>NaN</td>\n",
       "      <td>NaN</td>\n",
       "      <td>NaN</td>\n",
       "      <td>NaN</td>\n",
       "      <td>0.0</td>\n",
       "      <td>0.0</td>\n",
       "      <td>0.0</td>\n",
       "      <td>0.0</td>\n",
       "    </tr>\n",
       "  </tbody>\n",
       "</table>\n",
       "<p>5 rows × 73 columns</p>\n",
       "</div>"
      ],
      "text/plain": [
       "   cust_group max_con_cd max_city_cd       city   region           state  \\\n",
       "0      193386          E          20       PUNE   West 3     Maharashtra   \n",
       "1      195241          E         NaN        NaN      NaN             NaN   \n",
       "2        2015          I         755     BHOPAL   West 4  Madhya Pradesh   \n",
       "3      203129          E        2774     MODASA   West 2         Gujarat   \n",
       "4      204170          I          80  BANGALORE  South 4       Karnataka   \n",
       "\n",
       "     zone max_sub_type max_frequency  avg_odo_rd  ...  ps_ro_avg_9  \\\n",
       "0   West      Flagship        Annual      6503.0  ...          NaN   \n",
       "1     NaN     Flagship        Annual      9354.0  ...          NaN   \n",
       "2   West   Special Day        Annual         NaN  ...          NaN   \n",
       "3   West      Flagship        Annual      8239.0  ...          NaN   \n",
       "4  South      Flagship        Annual         NaN  ...          NaN   \n",
       "\n",
       "   ps_ro_avg_12 rr_ro_avg_3  rr_ro_avg_6 rr_ro_avg_9 rr_ro_avg_12 ot_ro_avg_3  \\\n",
       "0           NaN         NaN          NaN         NaN          NaN         0.0   \n",
       "1           NaN         NaN          NaN         NaN          NaN         NaN   \n",
       "2           NaN         NaN          NaN         NaN          NaN         0.0   \n",
       "3           NaN         NaN          NaN         NaN          NaN         NaN   \n",
       "4           NaN         NaN          NaN         NaN          NaN         0.0   \n",
       "\n",
       "   ot_ro_avg_6  ot_ro_avg_9  ot_ro_avg_12  \n",
       "0          0.0          0.0           0.0  \n",
       "1          NaN          NaN           NaN  \n",
       "2          0.0          0.0           0.0  \n",
       "3          NaN          NaN           NaN  \n",
       "4          0.0          0.0           0.0  \n",
       "\n",
       "[5 rows x 73 columns]"
      ]
     },
     "execution_count": 18,
     "metadata": {},
     "output_type": "execute_result"
    }
   ],
   "source": [
    "df.head()\n",
    "#df.dtypes"
   ]
  },
  {
   "cell_type": "code",
   "execution_count": 19,
   "metadata": {},
   "outputs": [
    {
     "data": {
      "text/plain": [
       "Gold(0-3Y)          534927\n",
       "Platinum(4Y-5Y)      50677\n",
       "Diamond(6Y-7Y)       10982\n",
       "Sapphire(8Y-10Y)      4645\n",
       "Loyal(GT 10Y)         1944\n",
       "Name: vehicle_age_bin, dtype: int64"
      ]
     },
     "execution_count": 19,
     "metadata": {},
     "output_type": "execute_result"
    }
   ],
   "source": [
    "#df['vehicle_age_bin'].nunique(), df['vehicle_age_bin'].unique()\n",
    "df['vehicle_age_bin'].value_counts()\n",
    "#df['vehicle_age_bin_mod'].value_counts()"
   ]
  },
  {
   "cell_type": "code",
   "execution_count": 20,
   "metadata": {},
   "outputs": [],
   "source": [
    "#Combining Bins for Vehicle Age Bin\n",
    "df.loc[(df['vehicle_age_bin'] == 'Loyal(GT 10Y)') |\n",
    "       (df['vehicle_age_bin'] == 'Sapphire(8Y-10Y)')|\n",
    "       (df['vehicle_age_bin'] == 'Platinum(4Y-5Y)')|\n",
    "       (df['vehicle_age_bin'] == 'Diamond(6Y-7Y)'), 'vehicle_age_bin'] = 'Others' "
   ]
  },
  {
   "cell_type": "code",
   "execution_count": 9,
   "metadata": {},
   "outputs": [
    {
     "data": {
      "text/plain": [
       "(603175, 73)"
      ]
     },
     "execution_count": 9,
     "metadata": {},
     "output_type": "execute_result"
    }
   ],
   "source": [
    "#Dropping Missing Values\n",
    "df.shape\n",
    "#df=df.dropna()\n",
    "df.shape"
   ]
  },
  {
   "cell_type": "code",
   "execution_count": 26,
   "metadata": {},
   "outputs": [],
   "source": [
    "df=df.fillna(0)"
   ]
  },
  {
   "cell_type": "code",
   "execution_count": 35,
   "metadata": {},
   "outputs": [],
   "source": [
    "del df['city']"
   ]
  },
  {
   "cell_type": "code",
   "execution_count": 22,
   "metadata": {},
   "outputs": [
    {
     "data": {
      "text/plain": [
       "(603175, 73)"
      ]
     },
     "execution_count": 22,
     "metadata": {},
     "output_type": "execute_result"
    }
   ],
   "source": [
    "df.shape"
   ]
  },
  {
   "cell_type": "code",
   "execution_count": 23,
   "metadata": {},
   "outputs": [],
   "source": [
    "df.loc[(df['labels'] == 'b') |\n",
    "       (df['labels'] == 'e')|\n",
    "       (df['labels'] == 's'), 'labels'] = 'r'"
   ]
  },
  {
   "cell_type": "code",
   "execution_count": 30,
   "metadata": {},
   "outputs": [
    {
     "data": {
      "text/plain": [
       "r    363788\n",
       "n    239387\n",
       "Name: labels, dtype: int64"
      ]
     },
     "execution_count": 30,
     "metadata": {},
     "output_type": "execute_result"
    }
   ],
   "source": [
    "#Target Variable Encoding\n",
    "encoder = preprocessing.LabelEncoder()\n",
    "df[\"labels\"].value_counts()\n",
    "#df[\"labels\"] = encoder.fit_transform(df[\"labels\"])#.fillna('Nan'))\n",
    "#df[\"labels\"].value_counts()"
   ]
  },
  {
   "cell_type": "code",
   "execution_count": 44,
   "metadata": {},
   "outputs": [
    {
     "data": {
      "text/html": [
       "<div>\n",
       "<style scoped>\n",
       "    .dataframe tbody tr th:only-of-type {\n",
       "        vertical-align: middle;\n",
       "    }\n",
       "\n",
       "    .dataframe tbody tr th {\n",
       "        vertical-align: top;\n",
       "    }\n",
       "\n",
       "    .dataframe thead th {\n",
       "        text-align: right;\n",
       "    }\n",
       "</style>\n",
       "<table border=\"1\" class=\"dataframe\">\n",
       "  <thead>\n",
       "    <tr style=\"text-align: right;\">\n",
       "      <th></th>\n",
       "      <th>max_con_cd</th>\n",
       "      <th>region</th>\n",
       "      <th>state</th>\n",
       "      <th>zone</th>\n",
       "      <th>max_sub_type</th>\n",
       "      <th>max_frequency</th>\n",
       "      <th>car_own_ty</th>\n",
       "      <th>vehicle_age_bin</th>\n",
       "      <th>max_fuel_cd</th>\n",
       "      <th>max_veh_type</th>\n",
       "      <th>labels</th>\n",
       "    </tr>\n",
       "  </thead>\n",
       "  <tbody>\n",
       "    <tr>\n",
       "      <td>0</td>\n",
       "      <td>E</td>\n",
       "      <td>West 3</td>\n",
       "      <td>Maharashtra</td>\n",
       "      <td>West</td>\n",
       "      <td>Flagship</td>\n",
       "      <td>Annual</td>\n",
       "      <td>Single</td>\n",
       "      <td>Gold(0-3Y)</td>\n",
       "      <td>Petrol</td>\n",
       "      <td>Hatchback</td>\n",
       "      <td>r</td>\n",
       "    </tr>\n",
       "    <tr>\n",
       "      <td>1</td>\n",
       "      <td>E</td>\n",
       "      <td>0</td>\n",
       "      <td>0</td>\n",
       "      <td>0</td>\n",
       "      <td>Flagship</td>\n",
       "      <td>Annual</td>\n",
       "      <td>Single</td>\n",
       "      <td>Gold(0-3Y)</td>\n",
       "      <td>Petrol</td>\n",
       "      <td>Hatchback</td>\n",
       "      <td>r</td>\n",
       "    </tr>\n",
       "    <tr>\n",
       "      <td>2</td>\n",
       "      <td>I</td>\n",
       "      <td>West 4</td>\n",
       "      <td>Madhya Pradesh</td>\n",
       "      <td>West</td>\n",
       "      <td>Special Day</td>\n",
       "      <td>Annual</td>\n",
       "      <td>Single</td>\n",
       "      <td>Others</td>\n",
       "      <td>Petrol</td>\n",
       "      <td>Hatchback</td>\n",
       "      <td>n</td>\n",
       "    </tr>\n",
       "    <tr>\n",
       "      <td>3</td>\n",
       "      <td>E</td>\n",
       "      <td>West 2</td>\n",
       "      <td>Gujarat</td>\n",
       "      <td>West</td>\n",
       "      <td>Flagship</td>\n",
       "      <td>Annual</td>\n",
       "      <td>Single</td>\n",
       "      <td>Gold(0-3Y)</td>\n",
       "      <td>Petrol</td>\n",
       "      <td>Hatchback</td>\n",
       "      <td>r</td>\n",
       "    </tr>\n",
       "    <tr>\n",
       "      <td>4</td>\n",
       "      <td>I</td>\n",
       "      <td>South 4</td>\n",
       "      <td>Karnataka</td>\n",
       "      <td>South</td>\n",
       "      <td>Flagship</td>\n",
       "      <td>Annual</td>\n",
       "      <td>Single</td>\n",
       "      <td>Gold(0-3Y)</td>\n",
       "      <td>Petrol</td>\n",
       "      <td>Hatchback</td>\n",
       "      <td>n</td>\n",
       "    </tr>\n",
       "  </tbody>\n",
       "</table>\n",
       "</div>"
      ],
      "text/plain": [
       "  max_con_cd   region           state    zone max_sub_type max_frequency  \\\n",
       "0          E   West 3     Maharashtra   West      Flagship        Annual   \n",
       "1          E        0               0       0     Flagship        Annual   \n",
       "2          I   West 4  Madhya Pradesh   West   Special Day        Annual   \n",
       "3          E   West 2         Gujarat   West      Flagship        Annual   \n",
       "4          I  South 4       Karnataka  South      Flagship        Annual   \n",
       "\n",
       "  car_own_ty vehicle_age_bin max_fuel_cd max_veh_type labels  \n",
       "0     Single      Gold(0-3Y)      Petrol    Hatchback      r  \n",
       "1     Single      Gold(0-3Y)      Petrol    Hatchback      r  \n",
       "2     Single          Others      Petrol    Hatchback      n  \n",
       "3     Single      Gold(0-3Y)      Petrol    Hatchback      r  \n",
       "4     Single      Gold(0-3Y)      Petrol    Hatchback      n  "
      ]
     },
     "execution_count": 44,
     "metadata": {},
     "output_type": "execute_result"
    }
   ],
   "source": [
    "ds_cat = df.select_dtypes(include = 'object').copy()\n",
    "ds_num = df.select_dtypes(exclude = 'object').copy()\n",
    "ds_cat.head()\n",
    "#ds_num.head()"
   ]
  },
  {
   "cell_type": "code",
   "execution_count": 45,
   "metadata": {},
   "outputs": [],
   "source": [
    "import numpy as np\n",
    "ds_cat.replace(0, np.nan, inplace=True)"
   ]
  },
  {
   "cell_type": "code",
   "execution_count": 46,
   "metadata": {},
   "outputs": [
    {
     "data": {
      "text/html": [
       "<div>\n",
       "<style scoped>\n",
       "    .dataframe tbody tr th:only-of-type {\n",
       "        vertical-align: middle;\n",
       "    }\n",
       "\n",
       "    .dataframe tbody tr th {\n",
       "        vertical-align: top;\n",
       "    }\n",
       "\n",
       "    .dataframe thead th {\n",
       "        text-align: right;\n",
       "    }\n",
       "</style>\n",
       "<table border=\"1\" class=\"dataframe\">\n",
       "  <thead>\n",
       "    <tr style=\"text-align: right;\">\n",
       "      <th></th>\n",
       "      <th>max_con_cd</th>\n",
       "      <th>region</th>\n",
       "      <th>state</th>\n",
       "      <th>zone</th>\n",
       "      <th>max_sub_type</th>\n",
       "      <th>max_frequency</th>\n",
       "      <th>car_own_ty</th>\n",
       "      <th>vehicle_age_bin</th>\n",
       "      <th>max_fuel_cd</th>\n",
       "      <th>max_veh_type</th>\n",
       "      <th>labels</th>\n",
       "    </tr>\n",
       "  </thead>\n",
       "  <tbody>\n",
       "    <tr>\n",
       "      <td>0</td>\n",
       "      <td>E</td>\n",
       "      <td>West 3</td>\n",
       "      <td>Maharashtra</td>\n",
       "      <td>West</td>\n",
       "      <td>Flagship</td>\n",
       "      <td>Annual</td>\n",
       "      <td>Single</td>\n",
       "      <td>Gold(0-3Y)</td>\n",
       "      <td>Petrol</td>\n",
       "      <td>Hatchback</td>\n",
       "      <td>r</td>\n",
       "    </tr>\n",
       "    <tr>\n",
       "      <td>1</td>\n",
       "      <td>E</td>\n",
       "      <td>Nope</td>\n",
       "      <td>Nope</td>\n",
       "      <td>Nope</td>\n",
       "      <td>Flagship</td>\n",
       "      <td>Annual</td>\n",
       "      <td>Single</td>\n",
       "      <td>Gold(0-3Y)</td>\n",
       "      <td>Petrol</td>\n",
       "      <td>Hatchback</td>\n",
       "      <td>r</td>\n",
       "    </tr>\n",
       "    <tr>\n",
       "      <td>2</td>\n",
       "      <td>I</td>\n",
       "      <td>West 4</td>\n",
       "      <td>Madhya Pradesh</td>\n",
       "      <td>West</td>\n",
       "      <td>Special Day</td>\n",
       "      <td>Annual</td>\n",
       "      <td>Single</td>\n",
       "      <td>Others</td>\n",
       "      <td>Petrol</td>\n",
       "      <td>Hatchback</td>\n",
       "      <td>n</td>\n",
       "    </tr>\n",
       "    <tr>\n",
       "      <td>3</td>\n",
       "      <td>E</td>\n",
       "      <td>West 2</td>\n",
       "      <td>Gujarat</td>\n",
       "      <td>West</td>\n",
       "      <td>Flagship</td>\n",
       "      <td>Annual</td>\n",
       "      <td>Single</td>\n",
       "      <td>Gold(0-3Y)</td>\n",
       "      <td>Petrol</td>\n",
       "      <td>Hatchback</td>\n",
       "      <td>r</td>\n",
       "    </tr>\n",
       "    <tr>\n",
       "      <td>4</td>\n",
       "      <td>I</td>\n",
       "      <td>South 4</td>\n",
       "      <td>Karnataka</td>\n",
       "      <td>South</td>\n",
       "      <td>Flagship</td>\n",
       "      <td>Annual</td>\n",
       "      <td>Single</td>\n",
       "      <td>Gold(0-3Y)</td>\n",
       "      <td>Petrol</td>\n",
       "      <td>Hatchback</td>\n",
       "      <td>n</td>\n",
       "    </tr>\n",
       "    <tr>\n",
       "      <td>...</td>\n",
       "      <td>...</td>\n",
       "      <td>...</td>\n",
       "      <td>...</td>\n",
       "      <td>...</td>\n",
       "      <td>...</td>\n",
       "      <td>...</td>\n",
       "      <td>...</td>\n",
       "      <td>...</td>\n",
       "      <td>...</td>\n",
       "      <td>...</td>\n",
       "      <td>...</td>\n",
       "    </tr>\n",
       "    <tr>\n",
       "      <td>603170</td>\n",
       "      <td>I</td>\n",
       "      <td>Nope</td>\n",
       "      <td>Nope</td>\n",
       "      <td>Nope</td>\n",
       "      <td>Flagship</td>\n",
       "      <td>Annual</td>\n",
       "      <td>Single</td>\n",
       "      <td>Gold(0-3Y)</td>\n",
       "      <td>Petrol</td>\n",
       "      <td>Hatchback</td>\n",
       "      <td>n</td>\n",
       "    </tr>\n",
       "    <tr>\n",
       "      <td>603171</td>\n",
       "      <td>E</td>\n",
       "      <td>West 3</td>\n",
       "      <td>Maharashtra</td>\n",
       "      <td>West</td>\n",
       "      <td>Flagship</td>\n",
       "      <td>Annual</td>\n",
       "      <td>Single</td>\n",
       "      <td>Gold(0-3Y)</td>\n",
       "      <td>Petrol</td>\n",
       "      <td>Hatchback</td>\n",
       "      <td>r</td>\n",
       "    </tr>\n",
       "    <tr>\n",
       "      <td>603172</td>\n",
       "      <td>E</td>\n",
       "      <td>West 3</td>\n",
       "      <td>Maharashtra</td>\n",
       "      <td>West</td>\n",
       "      <td>Flagship</td>\n",
       "      <td>Annual</td>\n",
       "      <td>Single</td>\n",
       "      <td>Gold(0-3Y)</td>\n",
       "      <td>Petrol</td>\n",
       "      <td>Hatchback</td>\n",
       "      <td>r</td>\n",
       "    </tr>\n",
       "    <tr>\n",
       "      <td>603173</td>\n",
       "      <td>I</td>\n",
       "      <td>West 3</td>\n",
       "      <td>Maharashtra</td>\n",
       "      <td>West</td>\n",
       "      <td>Flagship</td>\n",
       "      <td>Annual</td>\n",
       "      <td>Single</td>\n",
       "      <td>Gold(0-3Y)</td>\n",
       "      <td>Petrol</td>\n",
       "      <td>Hatchback</td>\n",
       "      <td>n</td>\n",
       "    </tr>\n",
       "    <tr>\n",
       "      <td>603174</td>\n",
       "      <td>I</td>\n",
       "      <td>Nope</td>\n",
       "      <td>Nope</td>\n",
       "      <td>Nope</td>\n",
       "      <td>Flagship</td>\n",
       "      <td>Annual</td>\n",
       "      <td>Single</td>\n",
       "      <td>Gold(0-3Y)</td>\n",
       "      <td>Petrol</td>\n",
       "      <td>Hatchback</td>\n",
       "      <td>r</td>\n",
       "    </tr>\n",
       "  </tbody>\n",
       "</table>\n",
       "<p>603175 rows × 11 columns</p>\n",
       "</div>"
      ],
      "text/plain": [
       "       max_con_cd   region           state    zone max_sub_type max_frequency  \\\n",
       "0               E   West 3     Maharashtra   West      Flagship        Annual   \n",
       "1               E     Nope            Nope    Nope     Flagship        Annual   \n",
       "2               I   West 4  Madhya Pradesh   West   Special Day        Annual   \n",
       "3               E   West 2         Gujarat   West      Flagship        Annual   \n",
       "4               I  South 4       Karnataka  South      Flagship        Annual   \n",
       "...           ...      ...             ...     ...          ...           ...   \n",
       "603170          I     Nope            Nope    Nope     Flagship        Annual   \n",
       "603171          E   West 3     Maharashtra   West      Flagship        Annual   \n",
       "603172          E   West 3     Maharashtra   West      Flagship        Annual   \n",
       "603173          I   West 3     Maharashtra   West      Flagship        Annual   \n",
       "603174          I     Nope            Nope    Nope     Flagship        Annual   \n",
       "\n",
       "       car_own_ty vehicle_age_bin max_fuel_cd max_veh_type labels  \n",
       "0          Single      Gold(0-3Y)      Petrol    Hatchback      r  \n",
       "1          Single      Gold(0-3Y)      Petrol    Hatchback      r  \n",
       "2          Single          Others      Petrol    Hatchback      n  \n",
       "3          Single      Gold(0-3Y)      Petrol    Hatchback      r  \n",
       "4          Single      Gold(0-3Y)      Petrol    Hatchback      n  \n",
       "...           ...             ...         ...          ...    ...  \n",
       "603170     Single      Gold(0-3Y)      Petrol    Hatchback      n  \n",
       "603171     Single      Gold(0-3Y)      Petrol    Hatchback      r  \n",
       "603172     Single      Gold(0-3Y)      Petrol    Hatchback      r  \n",
       "603173     Single      Gold(0-3Y)      Petrol    Hatchback      n  \n",
       "603174     Single      Gold(0-3Y)      Petrol    Hatchback      r  \n",
       "\n",
       "[603175 rows x 11 columns]"
      ]
     },
     "execution_count": 46,
     "metadata": {},
     "output_type": "execute_result"
    }
   ],
   "source": [
    "ds_cat.fillna('Nope')"
   ]
  },
  {
   "cell_type": "code",
   "execution_count": 47,
   "metadata": {},
   "outputs": [
    {
     "data": {
      "text/plain": [
       "max_con_cd         object\n",
       "region             object\n",
       "state              object\n",
       "zone               object\n",
       "max_sub_type       object\n",
       "max_frequency      object\n",
       "car_own_ty         object\n",
       "vehicle_age_bin    object\n",
       "max_fuel_cd        object\n",
       "max_veh_type       object\n",
       "labels             object\n",
       "dtype: object"
      ]
     },
     "execution_count": 47,
     "metadata": {},
     "output_type": "execute_result"
    }
   ],
   "source": [
    "ds_cat.dtypes"
   ]
  },
  {
   "cell_type": "code",
   "execution_count": 98,
   "metadata": {},
   "outputs": [
    {
     "data": {
      "text/plain": [
       "labels\n",
       "n    239387\n",
       "r    363788\n",
       "Name: vehicle_age_bin, dtype: int64"
      ]
     },
     "execution_count": 98,
     "metadata": {},
     "output_type": "execute_result"
    }
   ],
   "source": [
    "df.groupby('labels')['vehicle_age_bin'].count()"
   ]
  },
  {
   "cell_type": "code",
   "execution_count": 100,
   "metadata": {},
   "outputs": [
    {
     "data": {
      "text/html": [
       "<div>\n",
       "<style scoped>\n",
       "    .dataframe tbody tr th:only-of-type {\n",
       "        vertical-align: middle;\n",
       "    }\n",
       "\n",
       "    .dataframe tbody tr th {\n",
       "        vertical-align: top;\n",
       "    }\n",
       "\n",
       "    .dataframe thead th {\n",
       "        text-align: right;\n",
       "    }\n",
       "</style>\n",
       "<table border=\"1\" class=\"dataframe\">\n",
       "  <thead>\n",
       "    <tr style=\"text-align: right;\">\n",
       "      <th>vehicle_age_bin</th>\n",
       "      <th>Gold(0-3Y)</th>\n",
       "      <th>Others</th>\n",
       "    </tr>\n",
       "    <tr>\n",
       "      <th>labels</th>\n",
       "      <th></th>\n",
       "      <th></th>\n",
       "    </tr>\n",
       "  </thead>\n",
       "  <tbody>\n",
       "    <tr>\n",
       "      <td>n</td>\n",
       "      <td>204723</td>\n",
       "      <td>34664</td>\n",
       "    </tr>\n",
       "    <tr>\n",
       "      <td>r</td>\n",
       "      <td>330204</td>\n",
       "      <td>33584</td>\n",
       "    </tr>\n",
       "  </tbody>\n",
       "</table>\n",
       "</div>"
      ],
      "text/plain": [
       "vehicle_age_bin  Gold(0-3Y)  Others\n",
       "labels                             \n",
       "n                    204723   34664\n",
       "r                    330204   33584"
      ]
     },
     "execution_count": 100,
     "metadata": {},
     "output_type": "execute_result"
    }
   ],
   "source": [
    "pd.crosstab(df.labels,df.vehicle_age_bin)"
   ]
  },
  {
   "cell_type": "code",
   "execution_count": 53,
   "metadata": {},
   "outputs": [],
   "source": [
    "ds_cat1=ds_cat.copy()"
   ]
  },
  {
   "cell_type": "code",
   "execution_count": 56,
   "metadata": {},
   "outputs": [
    {
     "name": "stdout",
     "output_type": "stream",
     "text": [
      "max_con_cd\n",
      "region\n",
      "state\n",
      "zone\n",
      "max_sub_type\n",
      "max_frequency\n",
      "car_own_ty\n",
      "vehicle_age_bin\n",
      "max_fuel_cd\n",
      "max_veh_type\n",
      "labels\n"
     ]
    }
   ],
   "source": [
    "#Label Encoding for all categorical variable\n",
    "for i in ds_cat.columns:\n",
    "    print(i)\n",
    "    ds_cat1[i] = ds_cat[i].astype(str)\n",
    "    ds_cat1[i] = encoder.fit_transform(ds_cat1[i])"
   ]
  },
  {
   "cell_type": "code",
   "execution_count": 69,
   "metadata": {},
   "outputs": [],
   "source": [
    "ds_num1=ds_num.copy()"
   ]
  },
  {
   "cell_type": "code",
   "execution_count": 84,
   "metadata": {},
   "outputs": [],
   "source": [
    "ds_num2=ds_num.copy()"
   ]
  },
  {
   "cell_type": "code",
   "execution_count": 72,
   "metadata": {},
   "outputs": [
    {
     "name": "stdout",
     "output_type": "stream",
     "text": [
      "Index(['cust_group', 'avg_odo_rd', 'vin_ct', 'dis_vin_ct', 'avg_veh_age',\n",
      "       'hat_ct', 'sed_ct', 'suv_ct', 'die_ct', 'pet_ct', 'fre_an_ct',\n",
      "       'fre_as_ct', 'fre_bi_ct', 'fre_on_ct', 'type_fes_ct', 'type_fla_ct',\n",
      "       'type_oth_ct', 'type_sea_ct', 'type_spe_ct', 'war_ind', 'avg_3',\n",
      "       'avg_6', 'avg_9', 'avg_12', 'fs_avg_3', 'fs_avg_6', 'fs_avg_9',\n",
      "       'fs_avg_12', 'ps_avg_3', 'ps_avg_6', 'ps_avg_9', 'ps_avg_12',\n",
      "       'rr_avg_3', 'rr_avg_6', 'rr_avg_9', 'rr_avg_12', 'ot_avg_3', 'ot_avg_6',\n",
      "       'ot_avg_9', 'ot_avg_12', 'ro_avg_3', 'ro_avg_6', 'ro_avg_9',\n",
      "       'ro_avg_12', 'fs_ro_avg_3', 'fs_ro_avg_6', 'fs_ro_avg_9',\n",
      "       'fs_ro_avg_12', 'ps_ro_avg_3', 'ps_ro_avg_6', 'ps_ro_avg_9',\n",
      "       'ps_ro_avg_12', 'rr_ro_avg_3', 'rr_ro_avg_6', 'rr_ro_avg_9',\n",
      "       'rr_ro_avg_12', 'ot_ro_avg_3', 'ot_ro_avg_6', 'ot_ro_avg_9',\n",
      "       'ot_ro_avg_12'],\n",
      "      dtype='object')\n"
     ]
    }
   ],
   "source": [
    "print(ds_num.columns)"
   ]
  },
  {
   "cell_type": "code",
   "execution_count": 77,
   "metadata": {},
   "outputs": [
    {
     "name": "stdout",
     "output_type": "stream",
     "text": [
      "Index(['avg_odo_rd', 'avg_veh_age', 'hat_ct', 'sed_ct', 'suv_ct', 'die_ct',\n",
      "       'pet_ct', 'fre_an_ct', 'fre_as_ct', 'fre_bi_ct', 'fre_on_ct',\n",
      "       'type_fes_ct', 'type_fla_ct', 'type_oth_ct', 'type_sea_ct',\n",
      "       'type_spe_ct', 'war_ind'],\n",
      "      dtype='object')\n"
     ]
    }
   ],
   "source": [
    "print(ds_num1.columns)"
   ]
  },
  {
   "cell_type": "code",
   "execution_count": 85,
   "metadata": {},
   "outputs": [],
   "source": [
    "ds_num2=ds_num2.drop(['cust_group', 'vin_ct', 'dis_vin_ct', 'avg_3',\n",
    "       'avg_9', 'avg_12', 'fs_avg_3', 'fs_avg_9',\n",
    "       'fs_avg_12', 'ps_avg_3', 'ps_avg_9', 'ps_avg_12',\n",
    "       'rr_avg_3', 'rr_avg_9', 'rr_avg_12', 'ot_avg_3',\n",
    "       'ot_avg_9', 'ot_avg_12', 'ro_avg_3', 'ro_avg_9',\n",
    "       'ro_avg_12', 'fs_ro_avg_3', 'fs_ro_avg_9',\n",
    "       'fs_ro_avg_12', 'ps_ro_avg_3', 'ps_ro_avg_9',\n",
    "       'ps_ro_avg_12', 'rr_ro_avg_3', 'rr_ro_avg_9',\n",
    "       'rr_ro_avg_12', 'ot_ro_avg_3', 'ot_ro_avg_9',\n",
    "       'ot_ro_avg_12'], axis=1)"
   ]
  },
  {
   "cell_type": "code",
   "execution_count": 86,
   "metadata": {},
   "outputs": [],
   "source": [
    "#Concatenating again #cat & #num\n",
    "df_new = pd.concat([ds_num2, ds_cat1], axis=1)"
   ]
  },
  {
   "cell_type": "code",
   "execution_count": 87,
   "metadata": {},
   "outputs": [],
   "source": [
    "#Create X Y objects\n",
    "X=df_new.loc[:,df_new.columns!='labels']\n",
    "y=df_new['labels']"
   ]
  },
  {
   "cell_type": "code",
   "execution_count": 91,
   "metadata": {},
   "outputs": [
    {
     "data": {
      "text/plain": [
       "Index(['avg_odo_rd', 'avg_veh_age', 'hat_ct', 'sed_ct', 'suv_ct', 'die_ct',\n",
       "       'pet_ct', 'fre_an_ct', 'fre_as_ct', 'fre_bi_ct', 'fre_on_ct',\n",
       "       'type_fes_ct', 'type_fla_ct', 'type_oth_ct', 'type_sea_ct',\n",
       "       'type_spe_ct', 'war_ind', 'avg_6', 'fs_avg_6', 'ps_avg_6', 'rr_avg_6',\n",
       "       'ot_avg_6', 'ro_avg_6', 'fs_ro_avg_6', 'ps_ro_avg_6', 'rr_ro_avg_6',\n",
       "       'ot_ro_avg_6', 'max_con_cd', 'region', 'state', 'zone', 'max_sub_type',\n",
       "       'max_frequency', 'car_own_ty', 'vehicle_age_bin', 'max_fuel_cd',\n",
       "       'max_veh_type'],\n",
       "      dtype='object')"
      ]
     },
     "execution_count": 91,
     "metadata": {},
     "output_type": "execute_result"
    }
   ],
   "source": [
    "X.columns"
   ]
  },
  {
   "cell_type": "code",
   "execution_count": null,
   "metadata": {},
   "outputs": [],
   "source": []
  },
  {
   "cell_type": "code",
   "execution_count": 88,
   "metadata": {},
   "outputs": [],
   "source": [
    "# Split dataset into training set and test set\n",
    "X_train, X_test, y_train, y_test = train_test_split(X, y, test_size=0.3, random_state=0) # 70% training and 30% test\n",
    "# Create Decision Tree classifer object\n",
    "clf = DecisionTreeClassifier(random_state=0)\n",
    "# Train Decision Tree Classifer\n",
    "clf = clf.fit(X_train,y_train)"
   ]
  },
  {
   "cell_type": "code",
   "execution_count": 89,
   "metadata": {},
   "outputs": [
    {
     "name": "stdout",
     "output_type": "stream",
     "text": [
      "Accuracy: 0.9962200129315347\n",
      "[[ 71264    332]\n",
      " [   352 109005]]\n",
      "              precision    recall  f1-score   support\n",
      "\n",
      "           0       1.00      1.00      1.00     71596\n",
      "           1       1.00      1.00      1.00    109357\n",
      "\n",
      "    accuracy                           1.00    180953\n",
      "   macro avg       1.00      1.00      1.00    180953\n",
      "weighted avg       1.00      1.00      1.00    180953\n",
      "\n"
     ]
    }
   ],
   "source": [
    "#Predict the response for test dataset\n",
    "y_pred = clf.predict(X_test)\n",
    "# Model Evaluation\n",
    "print(\"Accuracy:\",metrics.accuracy_score(y_test, y_pred))\n",
    "print(metrics.confusion_matrix(y_test,y_pred))\n",
    "print(metrics.classification_report(y_test,y_pred))"
   ]
  },
  {
   "cell_type": "code",
   "execution_count": 82,
   "metadata": {},
   "outputs": [
    {
     "name": "stderr",
     "output_type": "stream",
     "text": [
      "E:\\Users1\\2003935\\AppData\\Local\\Continuum\\anaconda3\\lib\\site-packages\\sklearn\\linear_model\\logistic.py:432: FutureWarning: Default solver will be changed to 'lbfgs' in 0.22. Specify a solver to silence this warning.\n",
      "  FutureWarning)\n"
     ]
    },
    {
     "name": "stdout",
     "output_type": "stream",
     "text": [
      "Accuracy: 0.983271899332976\n",
      "[[ 71531     65]\n",
      " [  2962 106395]]\n",
      "              precision    recall  f1-score   support\n",
      "\n",
      "           0       0.96      1.00      0.98     71596\n",
      "           1       1.00      0.97      0.99    109357\n",
      "\n",
      "    accuracy                           0.98    180953\n",
      "   macro avg       0.98      0.99      0.98    180953\n",
      "weighted avg       0.98      0.98      0.98    180953\n",
      "\n"
     ]
    }
   ],
   "source": [
    "#Logistic Regression\n",
    "logreg_clf = LogisticRegression()\n",
    "log = logreg_clf.fit(X_train,y_train)\n",
    "#Predict the response for test dataset\n",
    "y_pred = log.predict(X_test)\n",
    "# Model Evaluation\n",
    "print(\"Accuracy:\",metrics.accuracy_score(y_test, y_pred))\n",
    "print(metrics.confusion_matrix(y_test,y_pred))\n",
    "print(metrics.classification_report(y_test,y_pred))\n"
   ]
  }
 ],
 "metadata": {
  "kernelspec": {
   "display_name": "Python 3",
   "language": "python",
   "name": "python3"
  },
  "language_info": {
   "codemirror_mode": {
    "name": "ipython",
    "version": 3
   },
   "file_extension": ".py",
   "mimetype": "text/x-python",
   "name": "python",
   "nbconvert_exporter": "python",
   "pygments_lexer": "ipython3",
   "version": "3.7.4"
  }
 },
 "nbformat": 4,
 "nbformat_minor": 2
}
